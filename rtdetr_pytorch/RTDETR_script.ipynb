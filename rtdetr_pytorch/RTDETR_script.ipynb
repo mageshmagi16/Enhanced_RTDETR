{
  "cells": [
    {
      "cell_type": "code",
      "execution_count": null,
      "metadata": {},
      "outputs": [],
      "source": [
        "python C:\\Users\\mages\\rtdetr_pytorch\\tools\\infer.py -c C:\\Users\\mages\\rtdetr_pytorch\\configs\\rtdetr\\rtdetr_r50vd_6x_coco.yml -r C:\\Users\\mages\\rtdetr_pytorch\\enhanced_rtdetr_model.pth -f C:\\Users\\mages\\rtdetr_pytorch\\samples\\sample_image.jpg -d cuda\n"
      ]
    },
    {
      "cell_type": "code",
      "execution_count": null,
      "metadata": {},
      "outputs": [],
      "source": [
        "python C:\\Users\\mages\\rtdetr_pytorch\\tools\\infer.py -c C:\\Users\\mages\\rtdetr_pytorch\\configs\\rtdetr\\rtdetr_r50vd_6x_coco.yml -r C:\\Users\\mages\\rtdetr_pytorch\\enhanced_rtdetr_model.pth -f C:\\Users\\mages\\rtdetr_pytorch\\samples\\sample_video2.mp4 -d cuda\n"
      ]
    }
  ],
  "metadata": {
    "accelerator": "GPU",
    "colab": {
      "gpuType": "T4",
      "provenance": []
    },
    "kernelspec": {
      "display_name": "Python 3",
      "name": "python3"
    },
    "language_info": {
      "codemirror_mode": {
        "name": "ipython",
        "version": 3
      },
      "file_extension": ".py",
      "mimetype": "text/x-python",
      "name": "python",
      "nbconvert_exporter": "python",
      "pygments_lexer": "ipython3",
      "version": "3.11.1"
    }
  },
  "nbformat": 4,
  "nbformat_minor": 0
}
